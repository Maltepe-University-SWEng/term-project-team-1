{
 "cells": [
  {
   "metadata": {
    "ExecuteTime": {
     "end_time": "2025-03-23T13:29:43.178171Z",
     "start_time": "2025-03-23T13:29:43.174171Z"
    }
   },
   "cell_type": "code",
   "source": [
    "import math\n",
    "import torch\n",
    "import torch.nn as nn\n",
    "import torch.optim as optim\n",
    "from torch.utils.data import Dataset, DataLoader\n",
    "import sentencepiece as spm\n",
    "import re\n",
    "from tqdm import tqdm\n",
    "\n",
    "torch.backends.cudnn.benchmark = True"
   ],
   "id": "fbc121e30a2defb3",
   "outputs": [],
   "execution_count": 14
  },
  {
   "metadata": {
    "ExecuteTime": {
     "end_time": "2025-03-23T13:28:20.965802Z",
     "start_time": "2025-03-23T13:28:20.956610Z"
    }
   },
   "cell_type": "code",
   "source": [
    "jokes_file = 'jokes_clean.txt'\n",
    "train_file = 'jokes_clean.txt'\n",
    "\n",
    "with open(jokes_file, 'r', encoding='utf-8') as f:\n",
    "    lines = f.readlines()\n",
    "\n",
    "fikralar = []\n",
    "current_fikra = []\n",
    "for line in lines:\n",
    "    if line.strip() == '':\n",
    "        if current_fikra:\n",
    "            fikralar.append(' '.join(current_fikra))\n",
    "            current_fikra = []\n",
    "    else:\n",
    "        current_fikra.append(line.strip())\n",
    "if current_fikra:\n",
    "    fikralar.append(' '.join(current_fikra))\n",
    "\n",
    "with open(train_file, 'w', encoding='utf-8') as f:\n",
    "    for fikra in fikralar:\n",
    "        f.write(fikra + '\\n\\n')"
   ],
   "id": "9017fdf5ac8ca1df",
   "outputs": [],
   "execution_count": 5
  },
  {
   "metadata": {
    "ExecuteTime": {
     "end_time": "2025-03-23T13:28:22.913551Z",
     "start_time": "2025-03-23T13:28:22.576184Z"
    }
   },
   "cell_type": "code",
   "source": [
    "spm.SentencePieceTrainer.train(\n",
    "    input=train_file,\n",
    "    model_prefix='fikra_tokenizer',\n",
    "    vocab_size=10000,\n",
    "    character_coverage=0.9995,\n",
    "    model_type='bpe'\n",
    ")\n",
    "sp = spm.SentencePieceProcessor(model_file='fikra_tokenizer.model')"
   ],
   "id": "9a51c8a5f7ca9049",
   "outputs": [],
   "execution_count": 6
  },
  {
   "metadata": {
    "ExecuteTime": {
     "end_time": "2025-03-23T13:28:24.893555Z",
     "start_time": "2025-03-23T13:28:24.815562Z"
    }
   },
   "cell_type": "code",
   "source": [
    "def tokenize_dataset(dataset_file):\n",
    "    with open(dataset_file, 'r', encoding='utf-8') as file:\n",
    "        text = file.read().strip()\n",
    "    jokes = re.split(r'\\n\\s*\\n', text)\n",
    "    jokes = [re.sub(r'\\s+', ' ', joke).strip() for joke in jokes if joke.strip()]\n",
    "    tokenized_jokes = [sp.encode(joke, out_type=int) for joke in jokes]\n",
    "    return tokenized_jokes\n",
    "\n",
    "train_tokenized = tokenize_dataset('jokes_clean.txt')\n",
    "print(\"Tokenized joke sayısı:\", len(train_tokenized))"
   ],
   "id": "9f96fcfaeaf315eb",
   "outputs": [
    {
     "name": "stdout",
     "output_type": "stream",
     "text": [
      "Tokenized joke sayısı: 777\n"
     ]
    }
   ],
   "execution_count": 7
  },
  {
   "metadata": {
    "ExecuteTime": {
     "end_time": "2025-03-23T13:28:26.571616Z",
     "start_time": "2025-03-23T13:28:26.567611Z"
    }
   },
   "cell_type": "code",
   "source": [
    "# Dataset Tanımı ve tokenizasyon\n",
    "class JokesDataset(Dataset):\n",
    "    def __init__(self, tokenized_jokes, max_len=50, pad_token=0):\n",
    "        self.sequences = []\n",
    "        self.max_len = max_len\n",
    "        for tokens in tokenized_jokes:\n",
    "            if len(tokens) < max_len + 1:\n",
    "                tokens = tokens + [pad_token] * (max_len + 1 - len(tokens))\n",
    "            for i in range(len(tokens) - max_len):\n",
    "                input_seq = tokens[i:i+max_len]\n",
    "                target_seq = tokens[i+1:i+max_len+1]\n",
    "                self.sequences.append((input_seq, target_seq))\n",
    "\n",
    "    def __len__(self):\n",
    "        return len(self.sequences)\n",
    "\n",
    "    def __getitem__(self, idx):\n",
    "        input_seq, target_seq = self.sequences[idx]\n",
    "        return torch.tensor(input_seq, dtype=torch.long), torch.tensor(target_seq, dtype=torch.long)\n"
   ],
   "id": "47f63150b30ea382",
   "outputs": [],
   "execution_count": 8
  },
  {
   "metadata": {
    "ExecuteTime": {
     "end_time": "2025-03-23T13:28:28.317829Z",
     "start_time": "2025-03-23T13:28:28.312808Z"
    }
   },
   "cell_type": "code",
   "source": [
    "# PositionalEncoding: max_len burada 5000, üretim sırasında kullanılacak\n",
    "class PositionalEncoding(nn.Module):\n",
    "    def __init__(self, d_model, max_len=5000):\n",
    "        super().__init__()\n",
    "        pe = torch.zeros(max_len, d_model)\n",
    "        position = torch.arange(0, max_len, dtype=torch.float).unsqueeze(1)\n",
    "        div_term = torch.exp(torch.arange(0, d_model, 2).float() * (-math.log(10000.0) / d_model))\n",
    "        pe[:, 0::2] = torch.sin(position * div_term)\n",
    "        pe[:, 1::2] = torch.cos(position * div_term)\n",
    "        pe = pe.unsqueeze(0)\n",
    "        self.register_buffer('pe', pe)\n",
    "    def forward(self, x):\n",
    "        seq_len = x.size(1)\n",
    "        return x + self.pe[:, :seq_len]\n",
    "\n",
    "# Model Tanımı: Eğitimde max_len=50 kullanılıyor.\n",
    "class SimpleDecoderLLM(nn.Module):\n",
    "    def __init__(self, vocab_size, d_model=256, nhead=4, num_layers=2, max_len=50):\n",
    "        super().__init__()\n",
    "        self.token_embedding = nn.Embedding(vocab_size, d_model)\n",
    "        self.pos_encoder = PositionalEncoding(d_model, max_len)  # Eğitimde giriş uzunluğu 50\n",
    "        decoder_layer = nn.TransformerDecoderLayer(d_model, nhead)\n",
    "        self.transformer_decoder = nn.TransformerDecoder(decoder_layer, num_layers)\n",
    "        self.fc_out = nn.Linear(d_model, vocab_size)\n",
    "        self.d_model = d_model\n",
    "        self.max_len = max_len\n",
    "\n",
    "    def forward(self, tgt, memory):\n",
    "        tgt = self.token_embedding(tgt) * math.sqrt(self.d_model)\n",
    "        tgt = self.pos_encoder(tgt)\n",
    "        tgt = tgt.transpose(0, 1)\n",
    "        seq_len = tgt.size(0)\n",
    "        tgt_mask = nn.Transformer.generate_square_subsequent_mask(seq_len).to(tgt.device)\n",
    "        output = self.transformer_decoder(tgt, memory, tgt_mask=tgt_mask)\n",
    "        logits = self.fc_out(output)\n",
    "        return logits.transpose(0, 1)\n"
   ],
   "id": "18de446c4c95b631",
   "outputs": [],
   "execution_count": 9
  },
  {
   "metadata": {
    "ExecuteTime": {
     "end_time": "2025-03-23T13:28:32.383350Z",
     "start_time": "2025-03-23T13:28:31.604464Z"
    }
   },
   "cell_type": "code",
   "source": [
    "# Parametreler\n",
    "vocab_size = 10000\n",
    "train_max_len = 50            # Eğitimde kullanılan maksimum giriş uzunluğu\n",
    "gen_max_length = 150       # Üretim çıktısı olarak maksimum token sayısı\n",
    "batch_size = 64\n",
    "epochs = 100\n",
    "\n",
    "# Dataset ve DataLoader\n",
    "train_dataset = JokesDataset(train_tokenized, max_len=train_max_len)\n",
    "train_loader = DataLoader(train_dataset, batch_size=batch_size, shuffle=True)\n",
    "\n",
    "device = torch.device(\"cuda:0\" if torch.cuda.is_available() else \"cpu\")\n",
    "if torch.cuda.is_available():\n",
    "    print(f\"✅ GPU Kullanılıyor: {torch.cuda.get_device_name(0)}\")\n",
    "else:\n",
    "    print(\"❌ GPU kullanılmıyor, CPU'ya geçildi!\")\n",
    "\n",
    "# Model oluşturulması (eğitimde kullanılan max_len = train_max_len)\n",
    "model = SimpleDecoderLLM(vocab_size=vocab_size, d_model=256, nhead=4, num_layers=2, max_len=train_max_len)\n",
    "model.to(device)\n",
    "\n",
    "optimizer = optim.Adam(model.parameters(), lr=1e-3)\n",
    "criterion = nn.CrossEntropyLoss()\n",
    "scheduler = optim.lr_scheduler.CosineAnnealingLR(optimizer, T_max=epochs)\n",
    "\n",
    "scaler = torch.amp.GradScaler('cuda')"
   ],
   "id": "6ecba94201b659ec",
   "outputs": [
    {
     "name": "stdout",
     "output_type": "stream",
     "text": [
      "✅ GPU Kullanılıyor: NVIDIA GeForce RTX 4060 Laptop GPU\n"
     ]
    }
   ],
   "execution_count": 10
  },
  {
   "metadata": {
    "ExecuteTime": {
     "end_time": "2025-03-23T13:12:59.955588Z",
     "start_time": "2025-03-23T12:59:43.106496Z"
    }
   },
   "cell_type": "code",
   "source": [
    "train_losses = []\n",
    "model.train()\n",
    "for epoch in range(epochs):\n",
    "    total_loss = 0\n",
    "    for batch_inputs, batch_targets in tqdm(train_loader, desc=f\"Epoch {epoch+1}/{epochs}\", leave=False):\n",
    "        batch_inputs  = batch_inputs.to(device, non_blocking=True)\n",
    "        batch_targets = batch_targets.to(device, non_blocking=True)\n",
    "        optimizer.zero_grad()\n",
    "        dummy_memory = torch.zeros(1, batch_inputs.size(0), model.d_model, device=device)\n",
    "        with torch.amp.autocast(device_type='cuda'):\n",
    "            outputs = model(batch_inputs, dummy_memory)\n",
    "            outputs = outputs.contiguous().view(-1, vocab_size)\n",
    "            batch_targets = batch_targets.contiguous().view(-1)\n",
    "            loss = criterion(outputs, batch_targets)\n",
    "        scaler.scale(loss).backward()\n",
    "        scaler.unscale_(optimizer)\n",
    "        torch.nn.utils.clip_grad_norm_(model.parameters(), max_norm=1.0)\n",
    "        scaler.step(optimizer)\n",
    "        scaler.update()\n",
    "        total_loss += loss.item()\n",
    "    avg_loss = total_loss / len(train_loader)\n",
    "    scheduler.step()\n",
    "    train_losses.append(avg_loss)\n",
    "    print(f\"Epoch {epoch+1}/{epochs} | Loss: {avg_loss:.4f} | LR: {scheduler.get_last_lr()[0]:.6f}\")\n",
    "print(\"Eğitim tamamlandı!\")"
   ],
   "id": "9d11d7932a9d9fed",
   "outputs": [
    {
     "name": "stderr",
     "output_type": "stream",
     "text": [
      "                                                              \r"
     ]
    },
    {
     "name": "stdout",
     "output_type": "stream",
     "text": [
      "Epoch 1/100 | Loss: 3.8340 | LR: 0.001000\n"
     ]
    },
    {
     "name": "stderr",
     "output_type": "stream",
     "text": [
      "                                                              \r"
     ]
    },
    {
     "name": "stdout",
     "output_type": "stream",
     "text": [
      "Epoch 2/100 | Loss: 1.1762 | LR: 0.000999\n"
     ]
    },
    {
     "name": "stderr",
     "output_type": "stream",
     "text": [
      "                                                              \r"
     ]
    },
    {
     "name": "stdout",
     "output_type": "stream",
     "text": [
      "Epoch 3/100 | Loss: 0.6422 | LR: 0.000998\n"
     ]
    },
    {
     "name": "stderr",
     "output_type": "stream",
     "text": [
      "                                                              \r"
     ]
    },
    {
     "name": "stdout",
     "output_type": "stream",
     "text": [
      "Epoch 4/100 | Loss: 0.4695 | LR: 0.000996\n"
     ]
    },
    {
     "name": "stderr",
     "output_type": "stream",
     "text": [
      "                                                              \r"
     ]
    },
    {
     "name": "stdout",
     "output_type": "stream",
     "text": [
      "Epoch 5/100 | Loss: 0.3876 | LR: 0.000994\n"
     ]
    },
    {
     "name": "stderr",
     "output_type": "stream",
     "text": [
      "                                                              \r"
     ]
    },
    {
     "name": "stdout",
     "output_type": "stream",
     "text": [
      "Epoch 6/100 | Loss: 0.3377 | LR: 0.000991\n"
     ]
    },
    {
     "name": "stderr",
     "output_type": "stream",
     "text": [
      "                                                              \r"
     ]
    },
    {
     "name": "stdout",
     "output_type": "stream",
     "text": [
      "Epoch 7/100 | Loss: 0.3012 | LR: 0.000988\n"
     ]
    },
    {
     "name": "stderr",
     "output_type": "stream",
     "text": [
      "                                                              \r"
     ]
    },
    {
     "name": "stdout",
     "output_type": "stream",
     "text": [
      "Epoch 8/100 | Loss: 0.2734 | LR: 0.000984\n"
     ]
    },
    {
     "name": "stderr",
     "output_type": "stream",
     "text": [
      "                                                              \r"
     ]
    },
    {
     "name": "stdout",
     "output_type": "stream",
     "text": [
      "Epoch 9/100 | Loss: 0.2535 | LR: 0.000980\n"
     ]
    },
    {
     "name": "stderr",
     "output_type": "stream",
     "text": [
      "                                                               \r"
     ]
    },
    {
     "name": "stdout",
     "output_type": "stream",
     "text": [
      "Epoch 10/100 | Loss: 0.2356 | LR: 0.000976\n"
     ]
    },
    {
     "name": "stderr",
     "output_type": "stream",
     "text": [
      "                                                               \r"
     ]
    },
    {
     "name": "stdout",
     "output_type": "stream",
     "text": [
      "Epoch 11/100 | Loss: 0.2194 | LR: 0.000970\n"
     ]
    },
    {
     "name": "stderr",
     "output_type": "stream",
     "text": [
      "                                                               \r"
     ]
    },
    {
     "name": "stdout",
     "output_type": "stream",
     "text": [
      "Epoch 12/100 | Loss: 0.2074 | LR: 0.000965\n"
     ]
    },
    {
     "name": "stderr",
     "output_type": "stream",
     "text": [
      "                                                               \r"
     ]
    },
    {
     "name": "stdout",
     "output_type": "stream",
     "text": [
      "Epoch 13/100 | Loss: 0.2004 | LR: 0.000959\n"
     ]
    },
    {
     "name": "stderr",
     "output_type": "stream",
     "text": [
      "                                                               \r"
     ]
    },
    {
     "name": "stdout",
     "output_type": "stream",
     "text": [
      "Epoch 14/100 | Loss: 0.1931 | LR: 0.000952\n"
     ]
    },
    {
     "name": "stderr",
     "output_type": "stream",
     "text": [
      "                                                               \r"
     ]
    },
    {
     "name": "stdout",
     "output_type": "stream",
     "text": [
      "Epoch 15/100 | Loss: 0.1860 | LR: 0.000946\n"
     ]
    },
    {
     "name": "stderr",
     "output_type": "stream",
     "text": [
      "                                                               \r"
     ]
    },
    {
     "name": "stdout",
     "output_type": "stream",
     "text": [
      "Epoch 16/100 | Loss: 0.1799 | LR: 0.000938\n"
     ]
    },
    {
     "name": "stderr",
     "output_type": "stream",
     "text": [
      "                                                               \r"
     ]
    },
    {
     "name": "stdout",
     "output_type": "stream",
     "text": [
      "Epoch 17/100 | Loss: 0.1752 | LR: 0.000930\n"
     ]
    },
    {
     "name": "stderr",
     "output_type": "stream",
     "text": [
      "                                                               \r"
     ]
    },
    {
     "name": "stdout",
     "output_type": "stream",
     "text": [
      "Epoch 18/100 | Loss: 0.1705 | LR: 0.000922\n"
     ]
    },
    {
     "name": "stderr",
     "output_type": "stream",
     "text": [
      "                                                               \r"
     ]
    },
    {
     "name": "stdout",
     "output_type": "stream",
     "text": [
      "Epoch 19/100 | Loss: 0.1676 | LR: 0.000914\n"
     ]
    },
    {
     "name": "stderr",
     "output_type": "stream",
     "text": [
      "                                                               \r"
     ]
    },
    {
     "name": "stdout",
     "output_type": "stream",
     "text": [
      "Epoch 20/100 | Loss: 0.1633 | LR: 0.000905\n"
     ]
    },
    {
     "name": "stderr",
     "output_type": "stream",
     "text": [
      "                                                               \r"
     ]
    },
    {
     "name": "stdout",
     "output_type": "stream",
     "text": [
      "Epoch 21/100 | Loss: 0.1605 | LR: 0.000895\n"
     ]
    },
    {
     "name": "stderr",
     "output_type": "stream",
     "text": [
      "                                                               \r"
     ]
    },
    {
     "name": "stdout",
     "output_type": "stream",
     "text": [
      "Epoch 22/100 | Loss: 0.1580 | LR: 0.000885\n"
     ]
    },
    {
     "name": "stderr",
     "output_type": "stream",
     "text": [
      "                                                               \r"
     ]
    },
    {
     "name": "stdout",
     "output_type": "stream",
     "text": [
      "Epoch 23/100 | Loss: 0.1545 | LR: 0.000875\n"
     ]
    },
    {
     "name": "stderr",
     "output_type": "stream",
     "text": [
      "                                                               \r"
     ]
    },
    {
     "name": "stdout",
     "output_type": "stream",
     "text": [
      "Epoch 24/100 | Loss: 0.1507 | LR: 0.000864\n"
     ]
    },
    {
     "name": "stderr",
     "output_type": "stream",
     "text": [
      "                                                               \r"
     ]
    },
    {
     "name": "stdout",
     "output_type": "stream",
     "text": [
      "Epoch 25/100 | Loss: 0.1483 | LR: 0.000854\n"
     ]
    },
    {
     "name": "stderr",
     "output_type": "stream",
     "text": [
      "                                                               \r"
     ]
    },
    {
     "name": "stdout",
     "output_type": "stream",
     "text": [
      "Epoch 26/100 | Loss: 0.1452 | LR: 0.000842\n"
     ]
    },
    {
     "name": "stderr",
     "output_type": "stream",
     "text": [
      "                                                               \r"
     ]
    },
    {
     "name": "stdout",
     "output_type": "stream",
     "text": [
      "Epoch 27/100 | Loss: 0.1432 | LR: 0.000831\n"
     ]
    },
    {
     "name": "stderr",
     "output_type": "stream",
     "text": [
      "                                                               \r"
     ]
    },
    {
     "name": "stdout",
     "output_type": "stream",
     "text": [
      "Epoch 28/100 | Loss: 0.1413 | LR: 0.000819\n"
     ]
    },
    {
     "name": "stderr",
     "output_type": "stream",
     "text": [
      "                                                               \r"
     ]
    },
    {
     "name": "stdout",
     "output_type": "stream",
     "text": [
      "Epoch 29/100 | Loss: 0.1392 | LR: 0.000806\n"
     ]
    },
    {
     "name": "stderr",
     "output_type": "stream",
     "text": [
      "                                                               \r"
     ]
    },
    {
     "name": "stdout",
     "output_type": "stream",
     "text": [
      "Epoch 30/100 | Loss: 0.1364 | LR: 0.000794\n"
     ]
    },
    {
     "name": "stderr",
     "output_type": "stream",
     "text": [
      "                                                               \r"
     ]
    },
    {
     "name": "stdout",
     "output_type": "stream",
     "text": [
      "Epoch 31/100 | Loss: 0.1344 | LR: 0.000781\n"
     ]
    },
    {
     "name": "stderr",
     "output_type": "stream",
     "text": [
      "                                                               \r"
     ]
    },
    {
     "name": "stdout",
     "output_type": "stream",
     "text": [
      "Epoch 32/100 | Loss: 0.1326 | LR: 0.000768\n"
     ]
    },
    {
     "name": "stderr",
     "output_type": "stream",
     "text": [
      "                                                               \r"
     ]
    },
    {
     "name": "stdout",
     "output_type": "stream",
     "text": [
      "Epoch 33/100 | Loss: 0.1298 | LR: 0.000755\n"
     ]
    },
    {
     "name": "stderr",
     "output_type": "stream",
     "text": [
      "                                                               \r"
     ]
    },
    {
     "name": "stdout",
     "output_type": "stream",
     "text": [
      "Epoch 34/100 | Loss: 0.1277 | LR: 0.000741\n"
     ]
    },
    {
     "name": "stderr",
     "output_type": "stream",
     "text": [
      "                                                               \r"
     ]
    },
    {
     "name": "stdout",
     "output_type": "stream",
     "text": [
      "Epoch 35/100 | Loss: 0.1252 | LR: 0.000727\n"
     ]
    },
    {
     "name": "stderr",
     "output_type": "stream",
     "text": [
      "                                                               \r"
     ]
    },
    {
     "name": "stdout",
     "output_type": "stream",
     "text": [
      "Epoch 36/100 | Loss: 0.1234 | LR: 0.000713\n"
     ]
    },
    {
     "name": "stderr",
     "output_type": "stream",
     "text": [
      "                                                               \r"
     ]
    },
    {
     "name": "stdout",
     "output_type": "stream",
     "text": [
      "Epoch 37/100 | Loss: 0.1222 | LR: 0.000699\n"
     ]
    },
    {
     "name": "stderr",
     "output_type": "stream",
     "text": [
      "                                                               \r"
     ]
    },
    {
     "name": "stdout",
     "output_type": "stream",
     "text": [
      "Epoch 38/100 | Loss: 0.1201 | LR: 0.000684\n"
     ]
    },
    {
     "name": "stderr",
     "output_type": "stream",
     "text": [
      "                                                               \r"
     ]
    },
    {
     "name": "stdout",
     "output_type": "stream",
     "text": [
      "Epoch 39/100 | Loss: 0.1187 | LR: 0.000669\n"
     ]
    },
    {
     "name": "stderr",
     "output_type": "stream",
     "text": [
      "                                                               \r"
     ]
    },
    {
     "name": "stdout",
     "output_type": "stream",
     "text": [
      "Epoch 40/100 | Loss: 0.1160 | LR: 0.000655\n"
     ]
    },
    {
     "name": "stderr",
     "output_type": "stream",
     "text": [
      "                                                               \r"
     ]
    },
    {
     "name": "stdout",
     "output_type": "stream",
     "text": [
      "Epoch 41/100 | Loss: 0.1142 | LR: 0.000639\n"
     ]
    },
    {
     "name": "stderr",
     "output_type": "stream",
     "text": [
      "                                                               \r"
     ]
    },
    {
     "name": "stdout",
     "output_type": "stream",
     "text": [
      "Epoch 42/100 | Loss: 0.1124 | LR: 0.000624\n"
     ]
    },
    {
     "name": "stderr",
     "output_type": "stream",
     "text": [
      "                                                               \r"
     ]
    },
    {
     "name": "stdout",
     "output_type": "stream",
     "text": [
      "Epoch 43/100 | Loss: 0.1113 | LR: 0.000609\n"
     ]
    },
    {
     "name": "stderr",
     "output_type": "stream",
     "text": [
      "                                                               \r"
     ]
    },
    {
     "name": "stdout",
     "output_type": "stream",
     "text": [
      "Epoch 44/100 | Loss: 0.1104 | LR: 0.000594\n"
     ]
    },
    {
     "name": "stderr",
     "output_type": "stream",
     "text": [
      "                                                               \r"
     ]
    },
    {
     "name": "stdout",
     "output_type": "stream",
     "text": [
      "Epoch 45/100 | Loss: 0.1083 | LR: 0.000578\n"
     ]
    },
    {
     "name": "stderr",
     "output_type": "stream",
     "text": [
      "                                                               \r"
     ]
    },
    {
     "name": "stdout",
     "output_type": "stream",
     "text": [
      "Epoch 46/100 | Loss: 0.1067 | LR: 0.000563\n"
     ]
    },
    {
     "name": "stderr",
     "output_type": "stream",
     "text": [
      "                                                               \r"
     ]
    },
    {
     "name": "stdout",
     "output_type": "stream",
     "text": [
      "Epoch 47/100 | Loss: 0.1058 | LR: 0.000547\n"
     ]
    },
    {
     "name": "stderr",
     "output_type": "stream",
     "text": [
      "                                                               \r"
     ]
    },
    {
     "name": "stdout",
     "output_type": "stream",
     "text": [
      "Epoch 48/100 | Loss: 0.1036 | LR: 0.000531\n"
     ]
    },
    {
     "name": "stderr",
     "output_type": "stream",
     "text": [
      "                                                               \r"
     ]
    },
    {
     "name": "stdout",
     "output_type": "stream",
     "text": [
      "Epoch 49/100 | Loss: 0.1017 | LR: 0.000516\n"
     ]
    },
    {
     "name": "stderr",
     "output_type": "stream",
     "text": [
      "                                                               \r"
     ]
    },
    {
     "name": "stdout",
     "output_type": "stream",
     "text": [
      "Epoch 50/100 | Loss: 0.1009 | LR: 0.000500\n"
     ]
    },
    {
     "name": "stderr",
     "output_type": "stream",
     "text": [
      "                                                               \r"
     ]
    },
    {
     "name": "stdout",
     "output_type": "stream",
     "text": [
      "Epoch 51/100 | Loss: 0.0993 | LR: 0.000484\n"
     ]
    },
    {
     "name": "stderr",
     "output_type": "stream",
     "text": [
      "                                                               \r"
     ]
    },
    {
     "name": "stdout",
     "output_type": "stream",
     "text": [
      "Epoch 52/100 | Loss: 0.0988 | LR: 0.000469\n"
     ]
    },
    {
     "name": "stderr",
     "output_type": "stream",
     "text": [
      "                                                               \r"
     ]
    },
    {
     "name": "stdout",
     "output_type": "stream",
     "text": [
      "Epoch 53/100 | Loss: 0.0969 | LR: 0.000453\n"
     ]
    },
    {
     "name": "stderr",
     "output_type": "stream",
     "text": [
      "                                                               \r"
     ]
    },
    {
     "name": "stdout",
     "output_type": "stream",
     "text": [
      "Epoch 54/100 | Loss: 0.0957 | LR: 0.000437\n"
     ]
    },
    {
     "name": "stderr",
     "output_type": "stream",
     "text": [
      "                                                               \r"
     ]
    },
    {
     "name": "stdout",
     "output_type": "stream",
     "text": [
      "Epoch 55/100 | Loss: 0.0943 | LR: 0.000422\n"
     ]
    },
    {
     "name": "stderr",
     "output_type": "stream",
     "text": [
      "                                                               \r"
     ]
    },
    {
     "name": "stdout",
     "output_type": "stream",
     "text": [
      "Epoch 56/100 | Loss: 0.0937 | LR: 0.000406\n"
     ]
    },
    {
     "name": "stderr",
     "output_type": "stream",
     "text": [
      "                                                               \r"
     ]
    },
    {
     "name": "stdout",
     "output_type": "stream",
     "text": [
      "Epoch 57/100 | Loss: 0.0924 | LR: 0.000391\n"
     ]
    },
    {
     "name": "stderr",
     "output_type": "stream",
     "text": [
      "                                                               \r"
     ]
    },
    {
     "name": "stdout",
     "output_type": "stream",
     "text": [
      "Epoch 58/100 | Loss: 0.0915 | LR: 0.000376\n"
     ]
    },
    {
     "name": "stderr",
     "output_type": "stream",
     "text": [
      "                                                               \r"
     ]
    },
    {
     "name": "stdout",
     "output_type": "stream",
     "text": [
      "Epoch 59/100 | Loss: 0.0902 | LR: 0.000361\n"
     ]
    },
    {
     "name": "stderr",
     "output_type": "stream",
     "text": [
      "                                                               \r"
     ]
    },
    {
     "name": "stdout",
     "output_type": "stream",
     "text": [
      "Epoch 60/100 | Loss: 0.0889 | LR: 0.000345\n"
     ]
    },
    {
     "name": "stderr",
     "output_type": "stream",
     "text": [
      "                                                               \r"
     ]
    },
    {
     "name": "stdout",
     "output_type": "stream",
     "text": [
      "Epoch 61/100 | Loss: 0.0883 | LR: 0.000331\n"
     ]
    },
    {
     "name": "stderr",
     "output_type": "stream",
     "text": [
      "                                                               \r"
     ]
    },
    {
     "name": "stdout",
     "output_type": "stream",
     "text": [
      "Epoch 62/100 | Loss: 0.0869 | LR: 0.000316\n"
     ]
    },
    {
     "name": "stderr",
     "output_type": "stream",
     "text": [
      "                                                               \r"
     ]
    },
    {
     "name": "stdout",
     "output_type": "stream",
     "text": [
      "Epoch 63/100 | Loss: 0.0861 | LR: 0.000301\n"
     ]
    },
    {
     "name": "stderr",
     "output_type": "stream",
     "text": [
      "                                                               \r"
     ]
    },
    {
     "name": "stdout",
     "output_type": "stream",
     "text": [
      "Epoch 64/100 | Loss: 0.0853 | LR: 0.000287\n"
     ]
    },
    {
     "name": "stderr",
     "output_type": "stream",
     "text": [
      "                                                               \r"
     ]
    },
    {
     "name": "stdout",
     "output_type": "stream",
     "text": [
      "Epoch 65/100 | Loss: 0.0843 | LR: 0.000273\n"
     ]
    },
    {
     "name": "stderr",
     "output_type": "stream",
     "text": [
      "                                                               \r"
     ]
    },
    {
     "name": "stdout",
     "output_type": "stream",
     "text": [
      "Epoch 66/100 | Loss: 0.0832 | LR: 0.000259\n"
     ]
    },
    {
     "name": "stderr",
     "output_type": "stream",
     "text": [
      "                                                               \r"
     ]
    },
    {
     "name": "stdout",
     "output_type": "stream",
     "text": [
      "Epoch 67/100 | Loss: 0.0826 | LR: 0.000245\n"
     ]
    },
    {
     "name": "stderr",
     "output_type": "stream",
     "text": [
      "                                                               \r"
     ]
    },
    {
     "name": "stdout",
     "output_type": "stream",
     "text": [
      "Epoch 68/100 | Loss: 0.0816 | LR: 0.000232\n"
     ]
    },
    {
     "name": "stderr",
     "output_type": "stream",
     "text": [
      "                                                               \r"
     ]
    },
    {
     "name": "stdout",
     "output_type": "stream",
     "text": [
      "Epoch 69/100 | Loss: 0.0807 | LR: 0.000219\n"
     ]
    },
    {
     "name": "stderr",
     "output_type": "stream",
     "text": [
      "                                                               \r"
     ]
    },
    {
     "name": "stdout",
     "output_type": "stream",
     "text": [
      "Epoch 70/100 | Loss: 0.0803 | LR: 0.000206\n"
     ]
    },
    {
     "name": "stderr",
     "output_type": "stream",
     "text": [
      "                                                               \r"
     ]
    },
    {
     "name": "stdout",
     "output_type": "stream",
     "text": [
      "Epoch 71/100 | Loss: 0.0792 | LR: 0.000194\n"
     ]
    },
    {
     "name": "stderr",
     "output_type": "stream",
     "text": [
      "                                                               \r"
     ]
    },
    {
     "name": "stdout",
     "output_type": "stream",
     "text": [
      "Epoch 72/100 | Loss: 0.0785 | LR: 0.000181\n"
     ]
    },
    {
     "name": "stderr",
     "output_type": "stream",
     "text": [
      "                                                               \r"
     ]
    },
    {
     "name": "stdout",
     "output_type": "stream",
     "text": [
      "Epoch 73/100 | Loss: 0.0776 | LR: 0.000169\n"
     ]
    },
    {
     "name": "stderr",
     "output_type": "stream",
     "text": [
      "                                                               \r"
     ]
    },
    {
     "name": "stdout",
     "output_type": "stream",
     "text": [
      "Epoch 74/100 | Loss: 0.0770 | LR: 0.000158\n"
     ]
    },
    {
     "name": "stderr",
     "output_type": "stream",
     "text": [
      "                                                               \r"
     ]
    },
    {
     "name": "stdout",
     "output_type": "stream",
     "text": [
      "Epoch 75/100 | Loss: 0.0763 | LR: 0.000146\n"
     ]
    },
    {
     "name": "stderr",
     "output_type": "stream",
     "text": [
      "                                                               \r"
     ]
    },
    {
     "name": "stdout",
     "output_type": "stream",
     "text": [
      "Epoch 76/100 | Loss: 0.0756 | LR: 0.000136\n"
     ]
    },
    {
     "name": "stderr",
     "output_type": "stream",
     "text": [
      "                                                               \r"
     ]
    },
    {
     "name": "stdout",
     "output_type": "stream",
     "text": [
      "Epoch 77/100 | Loss: 0.0750 | LR: 0.000125\n"
     ]
    },
    {
     "name": "stderr",
     "output_type": "stream",
     "text": [
      "                                                               \r"
     ]
    },
    {
     "name": "stdout",
     "output_type": "stream",
     "text": [
      "Epoch 78/100 | Loss: 0.0745 | LR: 0.000115\n"
     ]
    },
    {
     "name": "stderr",
     "output_type": "stream",
     "text": [
      "                                                               \r"
     ]
    },
    {
     "name": "stdout",
     "output_type": "stream",
     "text": [
      "Epoch 79/100 | Loss: 0.0738 | LR: 0.000105\n"
     ]
    },
    {
     "name": "stderr",
     "output_type": "stream",
     "text": [
      "                                                               \r"
     ]
    },
    {
     "name": "stdout",
     "output_type": "stream",
     "text": [
      "Epoch 80/100 | Loss: 0.0733 | LR: 0.000095\n"
     ]
    },
    {
     "name": "stderr",
     "output_type": "stream",
     "text": [
      "                                                               \r"
     ]
    },
    {
     "name": "stdout",
     "output_type": "stream",
     "text": [
      "Epoch 81/100 | Loss: 0.0727 | LR: 0.000086\n"
     ]
    },
    {
     "name": "stderr",
     "output_type": "stream",
     "text": [
      "                                                               \r"
     ]
    },
    {
     "name": "stdout",
     "output_type": "stream",
     "text": [
      "Epoch 82/100 | Loss: 0.0722 | LR: 0.000078\n"
     ]
    },
    {
     "name": "stderr",
     "output_type": "stream",
     "text": [
      "                                                               \r"
     ]
    },
    {
     "name": "stdout",
     "output_type": "stream",
     "text": [
      "Epoch 83/100 | Loss: 0.0714 | LR: 0.000070\n"
     ]
    },
    {
     "name": "stderr",
     "output_type": "stream",
     "text": [
      "                                                               \r"
     ]
    },
    {
     "name": "stdout",
     "output_type": "stream",
     "text": [
      "Epoch 84/100 | Loss: 0.0713 | LR: 0.000062\n"
     ]
    },
    {
     "name": "stderr",
     "output_type": "stream",
     "text": [
      "                                                               \r"
     ]
    },
    {
     "name": "stdout",
     "output_type": "stream",
     "text": [
      "Epoch 85/100 | Loss: 0.0709 | LR: 0.000054\n"
     ]
    },
    {
     "name": "stderr",
     "output_type": "stream",
     "text": [
      "                                                               \r"
     ]
    },
    {
     "name": "stdout",
     "output_type": "stream",
     "text": [
      "Epoch 86/100 | Loss: 0.0699 | LR: 0.000048\n"
     ]
    },
    {
     "name": "stderr",
     "output_type": "stream",
     "text": [
      "                                                               \r"
     ]
    },
    {
     "name": "stdout",
     "output_type": "stream",
     "text": [
      "Epoch 87/100 | Loss: 0.0701 | LR: 0.000041\n"
     ]
    },
    {
     "name": "stderr",
     "output_type": "stream",
     "text": [
      "                                                               \r"
     ]
    },
    {
     "name": "stdout",
     "output_type": "stream",
     "text": [
      "Epoch 88/100 | Loss: 0.0698 | LR: 0.000035\n"
     ]
    },
    {
     "name": "stderr",
     "output_type": "stream",
     "text": [
      "                                                               \r"
     ]
    },
    {
     "name": "stdout",
     "output_type": "stream",
     "text": [
      "Epoch 89/100 | Loss: 0.0694 | LR: 0.000030\n"
     ]
    },
    {
     "name": "stderr",
     "output_type": "stream",
     "text": [
      "                                                               \r"
     ]
    },
    {
     "name": "stdout",
     "output_type": "stream",
     "text": [
      "Epoch 90/100 | Loss: 0.0690 | LR: 0.000024\n"
     ]
    },
    {
     "name": "stderr",
     "output_type": "stream",
     "text": [
      "                                                               \r"
     ]
    },
    {
     "name": "stdout",
     "output_type": "stream",
     "text": [
      "Epoch 91/100 | Loss: 0.0686 | LR: 0.000020\n"
     ]
    },
    {
     "name": "stderr",
     "output_type": "stream",
     "text": [
      "                                                               \r"
     ]
    },
    {
     "name": "stdout",
     "output_type": "stream",
     "text": [
      "Epoch 92/100 | Loss: 0.0684 | LR: 0.000016\n"
     ]
    },
    {
     "name": "stderr",
     "output_type": "stream",
     "text": [
      "                                                               \r"
     ]
    },
    {
     "name": "stdout",
     "output_type": "stream",
     "text": [
      "Epoch 93/100 | Loss: 0.0682 | LR: 0.000012\n"
     ]
    },
    {
     "name": "stderr",
     "output_type": "stream",
     "text": [
      "                                                               \r"
     ]
    },
    {
     "name": "stdout",
     "output_type": "stream",
     "text": [
      "Epoch 94/100 | Loss: 0.0680 | LR: 0.000009\n"
     ]
    },
    {
     "name": "stderr",
     "output_type": "stream",
     "text": [
      "                                                               \r"
     ]
    },
    {
     "name": "stdout",
     "output_type": "stream",
     "text": [
      "Epoch 95/100 | Loss: 0.0679 | LR: 0.000006\n"
     ]
    },
    {
     "name": "stderr",
     "output_type": "stream",
     "text": [
      "                                                               \r"
     ]
    },
    {
     "name": "stdout",
     "output_type": "stream",
     "text": [
      "Epoch 96/100 | Loss: 0.0679 | LR: 0.000004\n"
     ]
    },
    {
     "name": "stderr",
     "output_type": "stream",
     "text": [
      "                                                               \r"
     ]
    },
    {
     "name": "stdout",
     "output_type": "stream",
     "text": [
      "Epoch 97/100 | Loss: 0.0680 | LR: 0.000002\n"
     ]
    },
    {
     "name": "stderr",
     "output_type": "stream",
     "text": [
      "                                                               \r"
     ]
    },
    {
     "name": "stdout",
     "output_type": "stream",
     "text": [
      "Epoch 98/100 | Loss: 0.0676 | LR: 0.000001\n"
     ]
    },
    {
     "name": "stderr",
     "output_type": "stream",
     "text": [
      "                                                               \r"
     ]
    },
    {
     "name": "stdout",
     "output_type": "stream",
     "text": [
      "Epoch 99/100 | Loss: 0.0676 | LR: 0.000000\n"
     ]
    },
    {
     "name": "stderr",
     "output_type": "stream",
     "text": [
      "                                                                "
     ]
    },
    {
     "name": "stdout",
     "output_type": "stream",
     "text": [
      "Epoch 100/100 | Loss: 0.0676 | LR: 0.000000\n",
      "Eğitim tamamlandı!\n"
     ]
    },
    {
     "name": "stderr",
     "output_type": "stream",
     "text": [
      "\r"
     ]
    }
   ],
   "execution_count": 26
  },
  {
   "metadata": {
    "ExecuteTime": {
     "end_time": "2025-03-23T13:13:03.197188Z",
     "start_time": "2025-03-23T13:13:03.142678Z"
    }
   },
   "cell_type": "code",
   "source": [
    "torch.save(model.state_dict(), 'model_v10.pth')\n",
    "print(\"Model 'model_v10.pth' olarak kaydedildi!\")"
   ],
   "id": "eab34827b431d18e",
   "outputs": [
    {
     "name": "stdout",
     "output_type": "stream",
     "text": [
      "Model 'model_v10.pth' olarak kaydedildi!\n"
     ]
    }
   ],
   "execution_count": 27
  },
  {
   "metadata": {
    "ExecuteTime": {
     "end_time": "2025-03-23T13:57:45.333212Z",
     "start_time": "2025-03-23T13:57:45.206212Z"
    }
   },
   "cell_type": "code",
   "source": [
    "model = SimpleDecoderLLM(vocab_size=vocab_size, d_model=256, nhead=4, num_layers=2, max_len=train_max_len)\n",
    "checkpoint = torch.load('model_v10.pth', weights_only=True)\n",
    "if checkpoint['pos_encoder.pe'].shape != model.pos_encoder.pe.shape:\n",
    "    checkpoint['pos_encoder.pe'] = model.pos_encoder.pe\n",
    "model.load_state_dict(checkpoint)\n",
    "model.to(device)\n",
    "model.eval()\n",
    "print(\"Model yüklendi ve kullanıma hazır\")"
   ],
   "id": "c78d4777357e364d",
   "outputs": [
    {
     "name": "stdout",
     "output_type": "stream",
     "text": [
      "Model yüklendi ve kullanıma hazır\n"
     ]
    }
   ],
   "execution_count": 17
  },
  {
   "metadata": {
    "ExecuteTime": {
     "end_time": "2025-03-23T13:57:53.129648Z",
     "start_time": "2025-03-23T13:57:52.709224Z"
    }
   },
   "cell_type": "code",
   "source": [
    "def generate_text(model, sp, start_text, max_length=gen_max_length, temperature=1.0, top_p=0.9, min_gen_length=50):\n",
    "    model.eval()\n",
    "    with torch.no_grad():\n",
    "        tokens = sp.encode(start_text, out_type=int)\n",
    "        if len(tokens) > model.max_len:\n",
    "            tokens = tokens[-model.max_len:]\n",
    "        generated = tokens.copy()\n",
    "        dummy_memory = torch.zeros(1, 1, model.d_model, device=device)\n",
    "        for _ in range(max_length - len(tokens)):\n",
    "            trimmed_input = torch.tensor(generated[-model.max_len:], dtype=torch.long, device=device).unsqueeze(0)\n",
    "            outputs = model(trimmed_input, dummy_memory)\n",
    "            next_token_logits = outputs[:, -1, :] / temperature\n",
    "\n",
    "            # Nucleus (top-p) sampling:\n",
    "            sorted_logits, sorted_indices = torch.sort(next_token_logits, descending=True)\n",
    "            cumulative_probs = torch.cumsum(torch.softmax(sorted_logits, dim=-1), dim=-1)\n",
    "            sorted_indices_to_remove = cumulative_probs > top_p\n",
    "            sorted_indices_to_remove[..., 1:] = sorted_indices_to_remove[..., :-1].clone()\n",
    "            sorted_indices_to_remove[..., 0] = 0\n",
    "            next_token_logits[0, sorted_indices[sorted_indices_to_remove]] = -float('Inf')\n",
    "            probs = torch.softmax(next_token_logits, dim=-1)\n",
    "            next_token = torch.multinomial(probs, num_samples=1).item()\n",
    "            generated.append(next_token)\n",
    "            decoded = sp.decode(generated)\n",
    "            if next_token == sp.eos_id():\n",
    "                break\n",
    "            # Eğer minimum token sayısına ulaşılmışsa ve çıktı son karakteri nokta, ünlem veya soru işareti ile bitiyorsa dur.\n",
    "            if len(generated) >= min_gen_length and decoded.strip()[-1] in ['.', '!', '?']:\n",
    "                break\n",
    "        generated_text = sp.decode(generated)\n",
    "        return generated_text\n",
    "\n",
    "# Örnek kullanım:\n",
    "start_text = \"ensar hoca\"  # Başlangıç metni\n",
    "generated_fikra = generate_text(model, sp, start_text, max_length=gen_max_length, temperature=0.7, top_p=0.9, min_gen_length=50)\n",
    "print(\"Üretilen Fıkra:\", generated_fikra)"
   ],
   "id": "7f181c501d4141de",
   "outputs": [
    {
     "name": "stdout",
     "output_type": "stream",
     "text": [
      "Üretilen Fıkra: ensar hoca bir gün pazarda dolaşırken bir adamın sürekli bedava akıl bedava akıl diye bağırdığını duymuş hoca yaklaşmış ve adama sormuş ne yapıyorsun böyle adam cevap vermiş insanlara bedava akıl dağıtıyorum bunun üzerine hoca o halde bana iki kilo ver demiş adam şaşırarak ama hoca akıl tartılmaz ki hoca gülümseyerek o zaman sen de bağırarak satma demiş adam şaşırarak ama hoca gülümseyerek o zaman sen de bağırarak satma demiş ⁇  ⁇  ⁇  ⁇  ⁇  ⁇  ⁇  ⁇  ⁇  ⁇  ⁇  ⁇  ⁇  ⁇  ⁇  ⁇  ⁇  ⁇  ⁇  ⁇  ⁇  ⁇  ⁇  ⁇  ⁇  ⁇  ⁇  ⁇  ⁇  ⁇  ⁇  ⁇  ⁇  ⁇  ⁇  ⁇  ⁇  ⁇  ⁇  ⁇  ⁇  ⁇  tane don.\n"
     ]
    }
   ],
   "execution_count": 19
  },
  {
   "metadata": {
    "ExecuteTime": {
     "end_time": "2025-03-23T14:07:59.780353Z",
     "start_time": "2025-03-23T14:07:59.772313Z"
    }
   },
   "cell_type": "code",
   "source": [
    "with open(\"jokes_clean.txt\", \"r\", encoding=\"utf-8\") as fin, open(\"jokes_preprocessed.txt\", \"w\", encoding=\"utf-8\") as fout:\n",
    "    joke = []\n",
    "    for line in fin:\n",
    "        if line.strip() == \"\":\n",
    "            if joke:\n",
    "                fout.write(\" \".join(joke).strip() + \" <EOS>\\n\")\n",
    "                joke = []\n",
    "        else:\n",
    "            joke.append(line.strip())\n",
    "    if joke:\n",
    "        fout.write(\" \".join(joke).strip() + \" <EOS>\\n\")\n"
   ],
   "id": "499e555570f9d2a0",
   "outputs": [],
   "execution_count": 20
  }
 ],
 "metadata": {
  "kernelspec": {
   "display_name": "Python 3",
   "language": "python",
   "name": "python3"
  },
  "language_info": {
   "codemirror_mode": {
    "name": "ipython",
    "version": 2
   },
   "file_extension": ".py",
   "mimetype": "text/x-python",
   "name": "python",
   "nbconvert_exporter": "python",
   "pygments_lexer": "ipython2",
   "version": "2.7.6"
  }
 },
 "nbformat": 4,
 "nbformat_minor": 5
}
